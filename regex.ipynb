{
 "cells": [
  {
   "cell_type": "markdown",
   "metadata": {},
   "source": [
    "# Methods \n",
    "findall(),search(),sub(),split()\n",
    "# Regular Expression(Rational Expression)\n",
    "[] -> set of char,\n",
    "\\ -> special sequence,\n",
    ". -> any character,\n",
    "^ -> start,\n",
    "$ -> end,\n",
    "* -> 0 or more,\n",
    "+ -> 1 or more,\n",
    "? -> 0 or 1,\n",
    "{} -> specific no. of occ,\n",
    "| -> either or,\n",
    "() -> group,\n",
    "\\d -> digit,\n",
    "\\D -> not digit,\n",
    "\\s -> white space character,\n",
    "\\S -> not white space character,\n",
    "\\w -> any word character,\n",
    "\\W -> not any word character"
   ]
  },
  {
   "cell_type": "code",
   "execution_count": null,
   "metadata": {},
   "outputs": [],
   "source": []
  },
  {
   "cell_type": "code",
   "execution_count": 1,
   "metadata": {},
   "outputs": [],
   "source": [
    "import re"
   ]
  },
  {
   "cell_type": "code",
   "execution_count": 13,
   "metadata": {},
   "outputs": [
    {
     "name": "stdout",
     "output_type": "stream",
     "text": [
      "['h', 'e', 'a', 'i', 'n', 'i', 'n', 'a', 'i', 'n']\n",
      "['h', 'e', ' ', 'a', 'i', 'n', ' ', 'i', 'n', ' ', 'a', 'i', 'n']\n",
      "[' r', ' s']\n",
      "2\n",
      "[' r', 'in', 'in', ' s', 'in']\n"
     ]
    }
   ],
   "source": [
    "txt = 'The rain in spain'\n",
    "x = re.findall(r\"[a-n]\",txt)\n",
    "print(x)\n",
    "\n",
    "y = re.findall(r\"[a-n,' ']\",txt)\n",
    "print(y)\n",
    "\n",
    "z = re.findall(r\"[a-n,' '][o-z]\",txt)\n",
    "print(z)\n",
    "print(len(z))\n",
    "\n",
    "p = re.findall(r\"[a-m,' '][n-z]\",txt)\n",
    "print(p)"
   ]
  },
  {
   "cell_type": "code",
   "execution_count": 16,
   "metadata": {},
   "outputs": [
    {
     "name": "stdout",
     "output_type": "stream",
     "text": [
      "['1', '2', '3', '4', '5']\n",
      "['12', '45']\n",
      "['Th']\n",
      "1\n"
     ]
    }
   ],
   "source": [
    "txt = 'The rain 123 in 45 spain'\n",
    "q = re.findall(r\"\\d\",txt)\n",
    "print(q)\n",
    "\n",
    "r = re.findall(r\"[1-9][1-9]\",txt)\n",
    "print(r)\n",
    "\n",
    "s = re.findall(r\"^Th\",txt)\n",
    "print(s)\n",
    "print(len(s))"
   ]
  },
  {
   "cell_type": "code",
   "execution_count": 33,
   "metadata": {},
   "outputs": [
    {
     "name": "stdout",
     "output_type": "stream",
     "text": [
      "['helo', 'he o']\n",
      "['hello helo heo he o']\n",
      "['hello helo heo he o']\n",
      "['heo']\n",
      "['helo', 'he o']\n",
      "['hello', 'helo', 'he o']\n",
      "['hello']\n"
     ]
    }
   ],
   "source": [
    "txt = 'hello helo heo he o'\n",
    "a = re.findall(r\"h..o\",txt)\n",
    "print(a)\n",
    "\n",
    "b = re.findall(r\"h.*o\",txt)\n",
    "print(b)\n",
    "\n",
    "c = re.findall(r\"he.+o\",txt)\n",
    "print(c)\n",
    "\n",
    "d = re.findall(r\"h.?o\",txt)\n",
    "print(d)\n",
    "\n",
    "e = re.findall(r\"h.{2}o\",txt)\n",
    "print(e)\n",
    "\n",
    "f = re.findall(r\"h.{2,4}o\",txt)\n",
    "print(f)\n",
    "\n",
    "g = re.findall(r\"i|hello\",txt)\n",
    "print(g)"
   ]
  },
  {
   "cell_type": "code",
   "execution_count": null,
   "metadata": {},
   "outputs": [],
   "source": []
  },
  {
   "cell_type": "code",
   "execution_count": null,
   "metadata": {},
   "outputs": [],
   "source": []
  },
  {
   "cell_type": "code",
   "execution_count": null,
   "metadata": {},
   "outputs": [],
   "source": []
  },
  {
   "cell_type": "code",
   "execution_count": null,
   "metadata": {},
   "outputs": [],
   "source": []
  },
  {
   "cell_type": "code",
   "execution_count": null,
   "metadata": {},
   "outputs": [],
   "source": []
  },
  {
   "cell_type": "code",
   "execution_count": null,
   "metadata": {},
   "outputs": [],
   "source": []
  },
  {
   "cell_type": "code",
   "execution_count": null,
   "metadata": {},
   "outputs": [],
   "source": []
  }
 ],
 "metadata": {
  "kernelspec": {
   "display_name": "Python 3",
   "language": "python",
   "name": "python3"
  },
  "language_info": {
   "codemirror_mode": {
    "name": "ipython",
    "version": 3
   },
   "file_extension": ".py",
   "mimetype": "text/x-python",
   "name": "python",
   "nbconvert_exporter": "python",
   "pygments_lexer": "ipython3",
   "version": "3.8.5"
  }
 },
 "nbformat": 4,
 "nbformat_minor": 4
}
