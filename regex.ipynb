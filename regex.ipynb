{
 "cells": [
  {
   "cell_type": "markdown",
   "metadata": {},
   "source": [
    "# Methods of ans\n",
    ".start(),.end(),.span()\n",
    "# Methods \n",
    "findall(),search(),sub(),split()\n",
    "# Regular Expression(Rational Expression)\n",
    "[] -> set of char,\n",
    "\\ -> special sequence,\n",
    ". -> any character,\n",
    "^ -> start,\n",
    "$ -> end,\n",
    "* -> 0 or more,\n",
    "+ -> 1 or more,\n",
    "? -> 0 or 1,\n",
    "{} -> specific no. of occ,\n",
    "| -> either or,\n",
    "() -> group,\n",
    "\\d -> digit,\n",
    "\\D -> not digit,\n",
    "\\s -> white space character,\n",
    "\\S -> not white space character,\n",
    "\\w -> any word character(no space),\n",
    "\\W -> not any word character(space)"
   ]
  },
  {
   "cell_type": "code",
   "execution_count": null,
   "metadata": {},
   "outputs": [],
   "source": []
  },
  {
   "cell_type": "code",
   "execution_count": 1,
   "metadata": {},
   "outputs": [],
   "source": [
    "import re"
   ]
  },
  {
   "cell_type": "code",
   "execution_count": 13,
   "metadata": {},
   "outputs": [
    {
     "name": "stdout",
     "output_type": "stream",
     "text": [
      "['h', 'e', 'a', 'i', 'n', 'i', 'n', 'a', 'i', 'n']\n",
      "['h', 'e', ' ', 'a', 'i', 'n', ' ', 'i', 'n', ' ', 'a', 'i', 'n']\n",
      "[' r', ' s']\n",
      "2\n",
      "[' r', 'in', 'in', ' s', 'in']\n"
     ]
    }
   ],
   "source": [
    "txt = 'The rain in spain'\n",
    "x = re.findall(r\"[a-n]\",txt)\n",
    "print(x)\n",
    "\n",
    "y = re.findall(r\"[a-n,' ']\",txt)\n",
    "print(y)\n",
    "\n",
    "z = re.findall(r\"[a-n,' '][o-z]\",txt)\n",
    "print(z)\n",
    "print(len(z))\n",
    "\n",
    "p = re.findall(r\"[a-m,' '][n-z]\",txt)\n",
    "print(p)"
   ]
  },
  {
   "cell_type": "code",
   "execution_count": 16,
   "metadata": {},
   "outputs": [
    {
     "name": "stdout",
     "output_type": "stream",
     "text": [
      "['1', '2', '3', '4', '5']\n",
      "['12', '45']\n",
      "['Th']\n",
      "1\n"
     ]
    }
   ],
   "source": [
    "txt = 'The rain 123 in 45 spain'\n",
    "q = re.findall(r\"\\d\",txt)\n",
    "print(q)\n",
    "\n",
    "r = re.findall(r\"[1-9][1-9]\",txt)\n",
    "print(r)\n",
    "\n",
    "s = re.findall(r\"^Th\",txt)\n",
    "print(s)\n",
    "print(len(s))"
   ]
  },
  {
   "cell_type": "code",
   "execution_count": 33,
   "metadata": {},
   "outputs": [
    {
     "name": "stdout",
     "output_type": "stream",
     "text": [
      "['helo', 'he o']\n",
      "['hello helo heo he o']\n",
      "['hello helo heo he o']\n",
      "['heo']\n",
      "['helo', 'he o']\n",
      "['hello', 'helo', 'he o']\n",
      "['hello']\n"
     ]
    }
   ],
   "source": [
    "txt = 'hello helo heo he o'\n",
    "a = re.findall(r\"h..o\",txt)\n",
    "print(a)\n",
    "\n",
    "b = re.findall(r\"h.*o\",txt)\n",
    "print(b)\n",
    "\n",
    "c = re.findall(r\"he.+o\",txt)\n",
    "print(c)\n",
    "\n",
    "d = re.findall(r\"h.?o\",txt)\n",
    "print(d)\n",
    "\n",
    "e = re.findall(r\"h.{2}o\",txt)\n",
    "print(e)\n",
    "\n",
    "f = re.findall(r\"h.{2,4}o\",txt)\n",
    "print(f)\n",
    "\n",
    "g = re.findall(r\"i|hello\",txt)\n",
    "print(g)"
   ]
  },
  {
   "cell_type": "code",
   "execution_count": 9,
   "metadata": {},
   "outputs": [
    {
     "name": "stdout",
     "output_type": "stream",
     "text": [
      "['1', '2', '3']\n",
      "['12']\n",
      "['t', 'h', 'e', ' ', 'r', 'a', 'i', 'n', ' ', 'i', 'n', ' ', 's', 'p', 'i', 'a', 'n', ' ']\n",
      "['th', 'e ', 'ra', 'in', ' i', 'n ', 'sp', 'ia', 'n ']\n",
      "[' ', ' ', ' ', ' ']\n",
      "['t', 'h', 'e', 'r', 'a', 'i', 'n', 'i', 'n', 's', 'p', 'i', 'a', 'n', '1', '2', '3']\n",
      "['t', 'h', 'e', 'r', 'a', 'i', 'n', 'i', 'n', 's', 'p', 'i', 'a', 'n', '1', '2', '3']\n",
      "['th', 'ra', 'in', 'in', 'sp', 'ia', '12']\n",
      "[' ', ' ', ' ', ' ']\n",
      "['the']\n",
      "['the ']\n"
     ]
    }
   ],
   "source": [
    "s = 'the rain in spian 123'\n",
    "x = re.findall(r'\\d',s)\n",
    "print(x)\n",
    "\n",
    "i = re.findall(r'\\d{2}',s)\n",
    "print(i)\n",
    "\n",
    "y = re.findall(r'\\D',s)\n",
    "print(y)\n",
    "\n",
    "j = re.findall(r'\\D{2}',s)\n",
    "print(j)\n",
    "\n",
    "z = re.findall(r'\\s',s)\n",
    "print(z)\n",
    "\n",
    "a = re.findall(r'\\S',s)\n",
    "print(a)\n",
    "\n",
    "b = re.findall(r'\\w',s)\n",
    "print(b)\n",
    "\n",
    "k = re.findall(r'\\w{2}',s)\n",
    "print(k)\n",
    "\n",
    "c = re.findall(r'\\W',s)\n",
    "print(c)\n",
    "\n",
    "m = re.findall(r'\\bt\\w+',s)\n",
    "print(m)\n",
    "\n",
    "n = re.findall(r'\\bt\\w+\\s\\b',s)\n",
    "print(n)"
   ]
  },
  {
   "cell_type": "code",
   "execution_count": 12,
   "metadata": {},
   "outputs": [
    {
     "name": "stdout",
     "output_type": "stream",
     "text": [
      "the\n"
     ]
    }
   ],
   "source": [
    "s = 'the rain in spian then'\n",
    "e = re.search(r'\\bt\\w+',s)\n",
    "print(e.group())                            #If no matches are found, the value None is returned"
   ]
  },
  {
   "cell_type": "code",
   "execution_count": 16,
   "metadata": {},
   "outputs": [
    {
     "name": "stdout",
     "output_type": "stream",
     "text": [
      "['', 'ack ', 'ue green ', 'ow']\n",
      "0\n",
      "['', 'ack ', 'ue green blow']\n"
     ]
    }
   ],
   "source": [
    "s = 'black blue green blow'\n",
    "f = re.split(r'bl',s)\n",
    "print(f)\n",
    "print(len(f[0]))\n",
    "\n",
    "g = re.split(r'bl',s,2)\n",
    "print(g)"
   ]
  },
  {
   "cell_type": "code",
   "execution_count": 17,
   "metadata": {},
   "outputs": [
    {
     "name": "stdout",
     "output_type": "stream",
     "text": [
      "vishal10ack vishal10ue green vishal10ow\n"
     ]
    }
   ],
   "source": [
    "s = 'black blue green blow'\n",
    "f = re.sub(r'bl','vishal10',s)\n",
    "print(f)"
   ]
  },
  {
   "cell_type": "code",
   "execution_count": null,
   "metadata": {},
   "outputs": [],
   "source": []
  }
 ],
 "metadata": {
  "kernelspec": {
   "display_name": "Python 3",
   "language": "python",
   "name": "python3"
  },
  "language_info": {
   "codemirror_mode": {
    "name": "ipython",
    "version": 3
   },
   "file_extension": ".py",
   "mimetype": "text/x-python",
   "name": "python",
   "nbconvert_exporter": "python",
   "pygments_lexer": "ipython3",
   "version": "3.8.5"
  }
 },
 "nbformat": 4,
 "nbformat_minor": 4
}
