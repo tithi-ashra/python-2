{
 "cells": [
  {
   "cell_type": "code",
   "execution_count": 4,
   "metadata": {},
   "outputs": [
    {
     "name": "stdout",
     "output_type": "stream",
     "text": [
      "Overwriting tcpClient_pr.py\n"
     ]
    }
   ],
   "source": [
    "%%writefile tcpClient_pr.py\n",
    "import socket\n",
    "host = socket.gethostname()\n",
    "port = 5000\n",
    "client = socket.socket()\n",
    "client.connect((host,port))\n",
    "msg = input('->')\n",
    "while msg.lower().strip()!='bye':\n",
    "    client.send(msg.encode())\n",
    "    data = client.recv(1024).decode()\n",
    "    print(\"data recived from server : \",data)\n",
    "    msg = input('->')\n",
    "client.close()"
   ]
  },
  {
   "cell_type": "code",
   "execution_count": 6,
   "metadata": {},
   "outputs": [
    {
     "name": "stdout",
     "output_type": "stream",
     "text": [
      "Overwriting tcpServer_pr.py\n"
     ]
    }
   ],
   "source": [
    "%%writefile tcpServer_pr.py\n",
    "import socket\n",
    "host = socket.gethostname()\n",
    "port = 5000\n",
    "server = socket.socket()\n",
    "server.bind((host,port))\n",
    "server.listen()\n",
    "conn,addr = server.accept()\n",
    "print(\"connection from : \",str(addr))\n",
    "while True:\n",
    "    data = server.recv(1024).decode()\n",
    "    if not data:\n",
    "        break\n",
    "    l = data.split()\n",
    "    l = list(map(lambda x : int(x),l))\n",
    "    l = list(map(lambda i : x%2!=0,l))\n",
    "    l = list(map(lambda i : x**3,l))\n",
    "    s=\"\"\n",
    "    for i in l:\n",
    "        s += str(i)+\" \"\n",
    "    data = s\n",
    "    print(\"connected user : \",str(data))\n",
    "    data = input('->')\n",
    "    conn.send(data.encode())\n",
    "conn.close()"
   ]
  },
  {
   "cell_type": "code",
   "execution_count": 7,
   "metadata": {},
   "outputs": [
    {
     "name": "stdout",
     "output_type": "stream",
     "text": [
      "Writing tcpServer_pr1.py\n"
     ]
    }
   ],
   "source": [
    "%%writefile tcpServer_pr1.py\n",
    "import socket\n",
    "host = socket.gethostname()\n",
    "port = 5000\n",
    "buffer_size = 1024\n",
    "with socket.socket() as s:\n",
    "    s.bind((host,port))\n",
    "    s.listen()\n",
    "    conn,addr = s.accept()\n",
    "    with conn:\n",
    "        print(\"connected user :\",addr)\n",
    "        file_data = b\"\"\n",
    "        while True:\n",
    "            data = conn.recv(buffer_size)\n",
    "            if not data:\n",
    "                break\n",
    "            file_data = data\n",
    "        with open('recv.ipynb','wb') as f:\n",
    "            f.write(file_data)\n",
    "        print('file received')"
   ]
  },
  {
   "cell_type": "code",
   "execution_count": 8,
   "metadata": {},
   "outputs": [
    {
     "name": "stdout",
     "output_type": "stream",
     "text": [
      "Writing tcpClient_pr1.py\n"
     ]
    }
   ],
   "source": [
    "%%writefile tcpClient_pr1.py\n",
    "import socket\n",
    "host = socket.gethostname()\n",
    "port = 5000\n",
    "buffer_size = 1024\n",
    "with socket.socket() as s:\n",
    "    s.connect((host,port))\n",
    "    with open('you.ipynb','rb') as f:\n",
    "        while True:\n",
    "            data = f.read(buffer_size)\n",
    "            if not data:\n",
    "                break\n",
    "            s.sendAll(data)\n",
    "        print('file sent')"
   ]
  },
  {
   "cell_type": "code",
   "execution_count": 20,
   "metadata": {},
   "outputs": [
    {
     "name": "stdout",
     "output_type": "stream",
     "text": [
      "                                          name_mobile  rating  fprize_mobile  \\\n",
      "0                    Huawei P9 (Mystic Silver, 32 GB)     4.5          39999   \n",
      "1                    Huawei P9 (Prestige Gold, 32 GB)     4.5          39999   \n",
      "2   SAMSUNG Galaxy S22 Plus 5G (Phantom Black, 128...     4.5          49999   \n",
      "3   SAMSUNG Galaxy Z Flip3 5G (Phantom Black, 128 GB)     4.3          44999   \n",
      "4   MOTOROLA Edge 30 Ultra (Interstellar Black, 25...     4.2          49999   \n",
      "5    MOTOROLA Edge 30 Ultra (Starlight White, 256 GB)     4.2          49999   \n",
      "6      SAMSUNG Galaxy A54 5G (Awesome Violet, 256 GB)     4.3          40999   \n",
      "7                   OnePlus 8 (Glacial Green, 256 GB)     4.5          46999   \n",
      "8          SAMSUNG Galaxy S22 Plus 5G (Green, 128 GB)     4.5          49999   \n",
      "9               OnePlus 8 (Interstellar Glow, 256 GB)     4.5          47349   \n",
      "10                  Mi 10T Pro (Cosmic Black, 128 GB)     4.2          38849   \n",
      "11          SAMSUNG Galaxy Z Flip3 5G (Cream, 128 GB)     4.3          44999   \n",
      "12                vivo X70 Pro (Cosmic Black, 256 GB)     4.4          49999   \n",
      "13                 vivo X70 Pro (Aurora Dawn, 256 GB)     4.4          47999   \n",
      "14              OnePlus 9RT 5G (Hacker Black, 256 GB)     4.1          48999   \n",
      "15               OnePlus 9RT 5G (Nano Silver, 256 GB)     4.1          46999   \n",
      "16                 OnePlus 9 5G (Winter Mist, 256 GB)     4.0          49999   \n",
      "17                      APPLE iPhone 11 (Red, 128 GB)     4.6          46999   \n",
      "18                OnePlus 9 5G (Astral Black, 128 GB)     3.9          49999   \n",
      "19             Xiaomi 12 Pro 5G (Opera Mauve, 256 GB)     4.2          43990   \n",
      "20            Xiaomi 12 Pro 5G (Couture Blue, 256 GB)     4.2          43900   \n",
      "21              realme GT 2 Pro (Steel Black, 128 GB)     4.2          49999   \n",
      "22                 vivo X70 Pro (Aurora Dawn, 256 GB)     4.5          48999   \n",
      "23            Xiaomi 12 Pro 5G (Couture Blue, 256 GB)     4.1          48880   \n",
      "\n",
      "    prize_mobile  \n",
      "0        40999.0  \n",
      "1        40999.0  \n",
      "2       101999.0  \n",
      "3        95999.0  \n",
      "4        74999.0  \n",
      "5        74999.0  \n",
      "6        45999.0  \n",
      "7        47999.0  \n",
      "8       101999.0  \n",
      "9        47999.0  \n",
      "10       47999.0  \n",
      "11       95999.0  \n",
      "12       57990.0  \n",
      "13       57990.0  \n",
      "14           NaN  \n",
      "15           NaN  \n",
      "16           NaN  \n",
      "17       48900.0  \n",
      "18           NaN  \n",
      "19       79990.0  \n",
      "20       79990.0  \n",
      "21       57999.0  \n",
      "22       54990.0  \n",
      "23       84999.0  \n"
     ]
    }
   ],
   "source": [
    "import requests\n",
    "import numpy as np\n",
    "import pandas as pd\n",
    "from bs4 import BeautifulSoup\n",
    "\n",
    "with open(\"vishal_new.html\", \"r\", encoding=\"utf-8\") as file:\n",
    "    html_content = file.read()\n",
    "    soup = BeautifulSoup(html_content)\n",
    "    soup = soup.find_all(\"div\", class_=\"_2kHMtA\")\n",
    "    len(soup)\n",
    "#   print(soup)\n",
    "\n",
    "    name_mobile = []\n",
    "    rating = []\n",
    "    fprize_mobile = []\n",
    "    prize_mobile = []\n",
    "    for i in soup:\n",
    "        name_mobile.append(i.find(\"div\", class_=\"_4rR01T\").text)\n",
    "        rating.append(float(i.find(\"div\", class_=\"_3LWZlK\").text))\n",
    "        fprize_mobile.append(int(i.find(\"div\", class_=\"_30jeq3 _1_WHN1\").text[1:3] + i.find(\"div\", class_=\"_30jeq3 _1_WHN1\").text[4:]))\n",
    "        try:\n",
    "            prize_mobile.append(int(i.find(\"div\", class_=\"_3I9_wc _27UcVY\").text[1:].replace(\",\", \"\")))\n",
    "        except:\n",
    "            prize_mobile.append(np.nan)\n",
    "    d = {\"name_mobile\": name_mobile, \"rating\": rating,\"fprize_mobile\": fprize_mobile, \"prize_mobile\": prize_mobile}\n",
    "    df = pd.DataFrame(d)\n",
    "    print(df)"
   ]
  },
  {
   "cell_type": "code",
   "execution_count": 25,
   "metadata": {},
   "outputs": [
    {
     "name": "stdout",
     "output_type": "stream",
     "text": [
      "[ 2.67628936e+00 -4.91261598e+04]\n",
      "158446.25133065082\n",
      "226610141.93806204\n",
      "0.11614205640107444\n"
     ]
    }
   ],
   "source": [
    "from sklearn.model_selection import train_test_split\n",
    "from sklearn.linear_model import LinearRegression\n",
    "from sklearn.metrics import mean_squared_error,r2_score\n",
    "\n",
    "df = df.dropna()\n",
    "x = df[[\"fprize_mobile\",\"rating\"]]\n",
    "y = df[\"prize_mobile\"]\n",
    "\n",
    "x_train,x_test,y_train,y_test = train_test_split(x,y,test_size=0.2,random_state=42)\n",
    "lr = LinearRegression()\n",
    "lr.fit(x_train,y_train)\n",
    "y_pred = lr.predict(x_test)\n",
    "print(lr.coef_ )\n",
    "print(lr.intercept_)\n",
    "\n",
    "print(mean_squared_error(y_test, y_pred))\n",
    "print(r2_score(y_test,y_pred))"
   ]
  },
  {
   "cell_type": "code",
   "execution_count": null,
   "metadata": {},
   "outputs": [],
   "source": []
  },
  {
   "cell_type": "code",
   "execution_count": null,
   "metadata": {},
   "outputs": [],
   "source": []
  },
  {
   "cell_type": "code",
   "execution_count": null,
   "metadata": {},
   "outputs": [],
   "source": []
  }
 ],
 "metadata": {
  "kernelspec": {
   "display_name": "Python 3",
   "language": "python",
   "name": "python3"
  },
  "language_info": {
   "codemirror_mode": {
    "name": "ipython",
    "version": 3
   },
   "file_extension": ".py",
   "mimetype": "text/x-python",
   "name": "python",
   "nbconvert_exporter": "python",
   "pygments_lexer": "ipython3",
   "version": "3.8.5"
  }
 },
 "nbformat": 4,
 "nbformat_minor": 4
}
