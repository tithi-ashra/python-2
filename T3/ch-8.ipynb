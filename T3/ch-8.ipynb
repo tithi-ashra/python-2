{
 "cells": [
  {
   "cell_type": "markdown",
   "metadata": {},
   "source": [
    "# Socket Programming\n",
    "(IP Address,Port,Client,Server,URL)\n",
    "import socket\n",
    "# 2 Types are :- 1.TCP(Transmission Control Protocol)[reliable,flow control,congestion control,header size(20-60bytes)] 2.UDP(User Datagram Protocol)[unreliable,connectionless,no flow & congestion control,header size(8bytes)]\n",
    "# Modules are :- 1..socket() 2..socket(type = SOCK_DGRAM) 3..bind() 4..listen() 5..accept() 6..connect((host,port)) 7..send(msg) 8..sendto(msg,addr) 9..recv(bytes) 10..recvfrom(bytes) 11..close() 12..gethostname()"
   ]
  },
  {
   "cell_type": "markdown",
   "metadata": {},
   "source": [
    "# first server-client program for TCP\n",
    "# second server-client program for UDP"
   ]
  },
  {
   "cell_type": "code",
   "execution_count": 1,
   "metadata": {},
   "outputs": [
    {
     "name": "stdout",
     "output_type": "stream",
     "text": [
      "406-1-16\n",
      "192.168.104.16\n"
     ]
    }
   ],
   "source": [
    "import socket\n",
    "print(socket.gethostname())\n",
    "print(socket.gethostbyname(socket.gethostname()))"
   ]
  },
  {
   "cell_type": "markdown",
   "metadata": {},
   "source": [
    "# Server"
   ]
  },
  {
   "cell_type": "code",
   "execution_count": 14,
   "metadata": {},
   "outputs": [
    {
     "name": "stdout",
     "output_type": "stream",
     "text": [
      "Overwriting tcpserver.py\n"
     ]
    }
   ],
   "source": [
    "%%writefile tcpserver.py\n",
    "import socket\n",
    "host = \"406-1-18\"\n",
    "port = 5000\n",
    "server_socket = socket.socket()\n",
    "server_socket.bind((host,port))\n",
    "server_socket.listen()\n",
    "conn,address = server_socket.accept()\n",
    "print('Connection from ',str(address))\n",
    "while True:\n",
    "    data = conn.recv(1024).decode()\n",
    "    if not data:\n",
    "        break\n",
    "    print('from connected user ',str(data))\n",
    "    data = input('->')\n",
    "    conn.send(data.encode())\n",
    "conn.close()"
   ]
  },
  {
   "cell_type": "markdown",
   "metadata": {},
   "source": [
    "# Client"
   ]
  },
  {
   "cell_type": "code",
   "execution_count": 8,
   "metadata": {},
   "outputs": [
    {
     "name": "stdout",
     "output_type": "stream",
     "text": [
      "Overwriting tcpclient.py\n"
     ]
    }
   ],
   "source": [
    "%%writefile tcpclient.py\n",
    "import socket\n",
    "host = socket.gethostname()  #or you can write the ip address of other pc\n",
    "port = 5000\n",
    "client_socket = socket.socket()\n",
    "client_socket.connect((host,port))\n",
    "message = input('->')\n",
    "while message.lower().strip()!='bye':\n",
    "    client_socket.send(message.encode())\n",
    "    data = client_socket.recv(1024).decode()\n",
    "    print('Received from server ',data)\n",
    "    message = input('->')\n",
    "client_socket.close()"
   ]
  },
  {
   "cell_type": "code",
   "execution_count": 17,
   "metadata": {},
   "outputs": [
    {
     "name": "stdout",
     "output_type": "stream",
     "text": [
      "Overwriting udpserver.py\n"
     ]
    }
   ],
   "source": [
    "%%writefile udpserver.py\n",
    "import socket\n",
    "host = socket.gethostname()\n",
    "port = 5000\n",
    "server_socket = socket.socket(type=socket.SOCK_DGRAM)\n",
    "server_socket.bind((host,port))\n",
    "while True:\n",
    "    print('Waiting for message')\n",
    "    data,addr = server_socket.recvfrom(1024)\n",
    "    print(\"Received\",data.decode(),\"from\",addr)\n",
    "    msg = input(\"->\")\n",
    "    server_socket.sendto(msg.encode(),addr)\n",
    "conn.close()"
   ]
  },
  {
   "cell_type": "code",
   "execution_count": 18,
   "metadata": {},
   "outputs": [
    {
     "name": "stdout",
     "output_type": "stream",
     "text": [
      "Overwriting udpclient.py\n"
     ]
    }
   ],
   "source": [
    "%%writefile udpclient.py\n",
    "import socket\n",
    "host = socket.gethostname()  #or you can write the ip address of other pc\n",
    "port = 5000\n",
    "client_socket = socket.socket(type=socket.SOCK_DGRAM)\n",
    "addr = (host,port)\n",
    "while True:\n",
    "    data = input('->')\n",
    "    if not data:\n",
    "        break\n",
    "    client_socket.sendto(data.encode(),addr)\n",
    "    print('Ready to received message')\n",
    "    data,addr = client_socket.recvfrom(1024)\n",
    "    if not data:\n",
    "        break\n",
    "    print('Received ',data.decode())\n",
    "client_socket.close()"
   ]
  },
  {
   "cell_type": "markdown",
   "metadata": {},
   "source": [
    "# Own Server"
   ]
  },
  {
   "cell_type": "code",
   "execution_count": 2,
   "metadata": {},
   "outputs": [
    {
     "name": "stdout",
     "output_type": "stream",
     "text": [
      "Writing server.py\n"
     ]
    }
   ],
   "source": [
    "%%writefile server.py\n",
    "from socket import *\n",
    "server = socket()\n",
    "server.bind(('localhost',9000))\n",
    "server.listen()\n",
    "while(1):\n",
    "    client,addr = server.accept()\n",
    "    rd = client.recv(1028).decode()\n",
    "    print(rd)\n",
    "    data = \"HTTP/1.1 200 OK\\r\\n\"\n",
    "    data += \"conten-type:text/html ; charset=utf-8\\r\\n\"\n",
    "    data += \"\\r\\n\"\n",
    "    data += \"<html><body>hello world</body></html>\\r\\n\\r\\n\"\n",
    "    client.send(data.encode())\n",
    "server.close()\n",
    "print(\"http://localhost:9000\")"
   ]
  },
  {
   "cell_type": "code",
   "execution_count": 3,
   "metadata": {},
   "outputs": [
    {
     "name": "stdout",
     "output_type": "stream",
     "text": [
      "Writing client.py\n"
     ]
    }
   ],
   "source": [
    "%%writefile client.py\n",
    "from socket import *\n",
    "client = socket()\n",
    "client.connect(('localhost',9000))\n",
    "request = \"GET/HTTP/1.1\\r\\n\\host:localhost\\r\\n\\r\\n\"\n",
    "client.send(request.encode())\n",
    "response = client.recv(1024).decode()\n",
    "print(response)\n",
    "client.close()"
   ]
  },
  {
   "cell_type": "code",
   "execution_count": 4,
   "metadata": {},
   "outputs": [
    {
     "ename": "gaierror",
     "evalue": "[Errno 11001] getaddrinfo failed",
     "output_type": "error",
     "traceback": [
      "\u001b[1;31m---------------------------------------------------------------------------\u001b[0m",
      "\u001b[1;31mgaierror\u001b[0m                                  Traceback (most recent call last)",
      "\u001b[1;32m<ipython-input-4-50ca6623cda2>\u001b[0m in \u001b[0;36m<module>\u001b[1;34m\u001b[0m\n\u001b[0;32m      1\u001b[0m \u001b[1;32mimport\u001b[0m \u001b[0msocket\u001b[0m\u001b[1;33m\u001b[0m\u001b[1;33m\u001b[0m\u001b[0m\n\u001b[0;32m      2\u001b[0m \u001b[0mmysock\u001b[0m \u001b[1;33m=\u001b[0m \u001b[0msocket\u001b[0m\u001b[1;33m.\u001b[0m\u001b[0msocket\u001b[0m\u001b[1;33m(\u001b[0m\u001b[1;33m)\u001b[0m\u001b[1;33m\u001b[0m\u001b[1;33m\u001b[0m\u001b[0m\n\u001b[1;32m----> 3\u001b[1;33m \u001b[0mmysock\u001b[0m\u001b[1;33m.\u001b[0m\u001b[0mconnect\u001b[0m\u001b[1;33m(\u001b[0m\u001b[1;33m(\u001b[0m\u001b[1;34m'data.pr4e.org'\u001b[0m\u001b[1;33m,\u001b[0m\u001b[1;36m80\u001b[0m\u001b[1;33m)\u001b[0m\u001b[1;33m)\u001b[0m\u001b[1;33m\u001b[0m\u001b[1;33m\u001b[0m\u001b[0m\n\u001b[0m\u001b[0;32m      4\u001b[0m \u001b[0mcond\u001b[0m \u001b[1;33m=\u001b[0m \u001b[1;34m\"GET http://data.pr4e.org/remeo.txt HTTP/1.0\\r\\n\\r\\n\"\u001b[0m\u001b[1;33m.\u001b[0m\u001b[0mencode\u001b[0m\u001b[1;33m(\u001b[0m\u001b[1;33m)\u001b[0m\u001b[1;33m\u001b[0m\u001b[1;33m\u001b[0m\u001b[0m\n\u001b[0;32m      5\u001b[0m \u001b[0mmysock\u001b[0m\u001b[1;33m.\u001b[0m\u001b[0msend\u001b[0m\u001b[1;33m(\u001b[0m\u001b[0mcond\u001b[0m\u001b[1;33m)\u001b[0m\u001b[1;33m\u001b[0m\u001b[1;33m\u001b[0m\u001b[0m\n",
      "\u001b[1;31mgaierror\u001b[0m: [Errno 11001] getaddrinfo failed"
     ]
    }
   ],
   "source": [
    "#HTTP client that connects to a server,sends an HTTP GET request, and receives the response\n",
    "import socket\n",
    "mysock = socket.socket()\n",
    "mysock.connect(('data.pr4e.org',80))\n",
    "cond = \"GET http://data.pr4e.org/remeo.txt HTTP/1.0\\r\\n\\r\\n\".encode()\n",
    "mysock.send(cond)\n",
    "while True:\n",
    "    data = mysock.recv(512)\n",
    "    if len(data)<0:\n",
    "        break\n",
    "    print(data.decode(),end=\" \")\n",
    "mysock.close()"
   ]
  },
  {
   "cell_type": "markdown",
   "metadata": {},
   "source": [
    "# API (Application Programming Interface)\n",
    "import requests,json\n",
    "import pandas as pd"
   ]
  },
  {
   "cell_type": "markdown",
   "metadata": {},
   "source": [
    "# Functions :- 1.requests.get(url) 2..json() 3.json.dumps(d,indent=5) 4.json.loads(d)"
   ]
  },
  {
   "cell_type": "code",
   "execution_count": 7,
   "metadata": {},
   "outputs": [
    {
     "name": "stdout",
     "output_type": "stream",
     "text": [
      "india\n",
      "[{'name': 'India', 'lat': 2.183333, 'lon': 33.683333, 'country': 'UG', 'state': 'Kapelebyong'}]\n",
      "2.183333\n",
      "33.683333\n"
     ]
    }
   ],
   "source": [
    "import requests,json\n",
    "api_key = \"b723e1019088c50243d4d50eb2b82bf2\"\n",
    "city = input('')\n",
    "request_url = f\"\"\"http://api.openweathermap.org/geo/1.0/direct?q={city}&appid={api_key}\"\"\"\n",
    "response = requests.get(request_url)\n",
    "coordinates = response.json()\n",
    "print(coordinates)\n",
    "\n",
    "lat=coordinates[0]['lat']\n",
    "lon=coordinates[0]['lon']\n",
    "print(lat)\n",
    "print(lon)"
   ]
  },
  {
   "cell_type": "code",
   "execution_count": 2,
   "metadata": {},
   "outputs": [
    {
     "name": "stdout",
     "output_type": "stream",
     "text": [
      "{'coord': {'lon': 33.6833, 'lat': 2.1833}, 'weather': [{'id': 804, 'main': 'Clouds', 'description': 'overcast clouds', 'icon': '04d'}], 'base': 'stations', 'main': {'temp': 294.22, 'feels_like': 294.58, 'temp_min': 294.22, 'temp_max': 294.22, 'pressure': 1018, 'humidity': 84, 'sea_level': 1018, 'grnd_level': 900}, 'visibility': 10000, 'wind': {'speed': 0.21, 'deg': 326, 'gust': 0.3}, 'clouds': {'all': 100}, 'dt': 1748412677, 'sys': {'country': 'UG', 'sunrise': 1748403342, 'sunset': 1748447384}, 'timezone': 10800, 'id': 235186, 'name': 'Amuria', 'cod': 200}\n",
      "{\n",
      "     \"coord\": {\n",
      "          \"lon\": 33.6833,\n",
      "          \"lat\": 2.1833\n",
      "     },\n",
      "     \"weather\": [\n",
      "          {\n",
      "               \"id\": 804,\n",
      "               \"main\": \"Clouds\",\n",
      "               \"description\": \"overcast clouds\",\n",
      "               \"icon\": \"04d\"\n",
      "          }\n",
      "     ],\n",
      "     \"base\": \"stations\",\n",
      "     \"main\": {\n",
      "          \"temp\": 294.22,\n",
      "          \"feels_like\": 294.58,\n",
      "          \"temp_min\": 294.22,\n",
      "          \"temp_max\": 294.22,\n",
      "          \"pressure\": 1018,\n",
      "          \"humidity\": 84,\n",
      "          \"sea_level\": 1018,\n",
      "          \"grnd_level\": 900\n",
      "     },\n",
      "     \"visibility\": 10000,\n",
      "     \"wind\": {\n",
      "          \"speed\": 0.21,\n",
      "          \"deg\": 326,\n",
      "          \"gust\": 0.3\n",
      "     },\n",
      "     \"clouds\": {\n",
      "          \"all\": 100\n",
      "     },\n",
      "     \"dt\": 1748412677,\n",
      "     \"sys\": {\n",
      "          \"country\": \"UG\",\n",
      "          \"sunrise\": 1748403342,\n",
      "          \"sunset\": 1748447384\n",
      "     },\n",
      "     \"timezone\": 10800,\n",
      "     \"id\": 235186,\n",
      "     \"name\": \"Amuria\",\n",
      "     \"cod\": 200\n",
      "}\n",
      "temp= 294.22\n",
      "pressure= 1018\n"
     ]
    }
   ],
   "source": [
    "request_url=f\"\"\"https://api.openweathermap.org/data/2.5/weather?lat={lat}&lon={lon}&appid={api_key}\"\"\"\n",
    "response=requests.get(request_url)\n",
    "weather=response.json()\n",
    "print(weather)\n",
    "print(json.dumps(weather,indent=5))\n",
    "print(\"temp=\",weather['main']['temp'])\n",
    "print(\"pressure=\",weather['main']['pressure'])"
   ]
  },
  {
   "cell_type": "code",
   "execution_count": 3,
   "metadata": {},
   "outputs": [
    {
     "name": "stdout",
     "output_type": "stream",
     "text": [
      "{'coord': {'lon': 33.6833, 'lat': 2.1833}, 'list': [{'main': {'aqi': 2}, 'components': {'co': 544.18, 'no': 0.3, 'no2': 2.58, 'o3': 13.39, 'so2': 0.58, 'pm2_5': 15.16, 'pm10': 23.88, 'nh3': 2.05}, 'dt': 1748412761}]}\n",
      "aqi= 2\n"
     ]
    }
   ],
   "source": [
    "request_url=f\"\"\"http://api.openweathermap.org/data/2.5/air_pollution?lat={lat}&lon={lon}&appid={api_key}\"\"\"\n",
    "response=requests.get(request_url)\n",
    "pollution=response.json()\n",
    "print(pollution)\n",
    "print(\"aqi=\",pollution['list'][0]['main']['aqi'])"
   ]
  },
  {
   "cell_type": "code",
   "execution_count": 6,
   "metadata": {},
   "outputs": [
    {
     "name": "stdout",
     "output_type": "stream",
     "text": [
      "              date_time    temp  pressure  humidity           weather\n",
      "0   2025-05-28 09:00:00  296.27      1017        75        light rain\n",
      "1   2025-05-28 12:00:00  298.76      1015        62        light rain\n",
      "2   2025-05-28 15:00:00  298.15      1014        65   overcast clouds\n",
      "3   2025-05-28 18:00:00  294.80      1015        74        light rain\n",
      "4   2025-05-28 21:00:00  292.49      1017        88        light rain\n",
      "5   2025-05-29 00:00:00  291.10      1016        96        light rain\n",
      "6   2025-05-29 03:00:00  291.04      1016        94        light rain\n",
      "7   2025-05-29 06:00:00  294.89      1018        80   overcast clouds\n",
      "8   2025-05-29 09:00:00  300.60      1016        56        few clouds\n",
      "9   2025-05-29 12:00:00  301.79      1013        49  scattered clouds\n",
      "10  2025-05-29 15:00:00  298.09      1013        69     broken clouds\n",
      "11  2025-05-29 18:00:00  292.95      1017        87        light rain\n",
      "12  2025-05-29 21:00:00  291.05      1018        94        light rain\n",
      "13  2025-05-30 00:00:00  290.47      1016        89        light rain\n",
      "14  2025-05-30 03:00:00  290.18      1017        88        light rain\n",
      "15  2025-05-30 06:00:00  294.49      1018        77  scattered clouds\n",
      "16  2025-05-30 09:00:00  299.72      1016        58   overcast clouds\n",
      "17  2025-05-30 12:00:00  301.10      1012        51        light rain\n",
      "18  2025-05-30 15:00:00  295.78      1013        80        light rain\n",
      "19  2025-05-30 18:00:00  293.29      1015        86     moderate rain\n",
      "20  2025-05-30 21:00:00  292.90      1015        87        light rain\n",
      "21  2025-05-31 00:00:00  291.54      1015        93   overcast clouds\n",
      "22  2025-05-31 03:00:00  291.02      1015        93     broken clouds\n",
      "23  2025-05-31 06:00:00  295.29      1017        77     broken clouds\n",
      "24  2025-05-31 09:00:00  300.12      1015        57     broken clouds\n",
      "25  2025-05-31 12:00:00  301.75      1011        49     broken clouds\n",
      "26  2025-05-31 15:00:00  298.72      1012        63   overcast clouds\n",
      "27  2025-05-31 18:00:00  294.64      1015        75        light rain\n",
      "28  2025-05-31 21:00:00  291.63      1016        92        light rain\n",
      "29  2025-06-01 00:00:00  291.93      1015        89   overcast clouds\n",
      "30  2025-06-01 03:00:00  291.24      1016        90   overcast clouds\n",
      "31  2025-06-01 06:00:00  295.50      1017        75   overcast clouds\n",
      "32  2025-06-01 09:00:00  300.29      1016        53  scattered clouds\n",
      "33  2025-06-01 12:00:00  302.21      1012        46  scattered clouds\n",
      "34  2025-06-01 15:00:00  297.02      1013        69        light rain\n",
      "35  2025-06-01 18:00:00  293.53      1016        84        light rain\n",
      "36  2025-06-01 21:00:00  292.39      1016        89     broken clouds\n",
      "37  2025-06-02 00:00:00  291.65      1015        92     broken clouds\n",
      "38  2025-06-02 03:00:00  291.08      1016        92   overcast clouds\n",
      "39  2025-06-02 06:00:00  295.38      1017        76     broken clouds\n"
     ]
    }
   ],
   "source": [
    "import pandas as pd\n",
    "request_url=f\"http://api.openweathermap.org/data/2.5/forecast?lat={lat}&lon={lon}&appid={api_key}\"\n",
    "response=requests.get(request_url)\n",
    "forecast=response.json()\n",
    "# print(forecast)\n",
    "# print(json.dumps(forecast,indent=5))\n",
    "d={'date_time':[] ,'temp':[],'pressure':[],'humidity':[],'weather':[]}\n",
    "for i in forecast['list']:\n",
    "    d['date_time'].append(i['dt_txt'])\n",
    "    d['temp'].append(i['main']['temp'])\n",
    "    d['pressure'].append(i['main']['pressure'])\n",
    "    d['humidity'].append(i['main']['humidity'])\n",
    "    d['weather'].append(i['weather'][0]['description'])\n",
    "df=pd.DataFrame(d)\n",
    "print(df)"
   ]
  },
  {
   "cell_type": "code",
   "execution_count": 7,
   "metadata": {},
   "outputs": [
    {
     "name": "stdout",
     "output_type": "stream",
     "text": [
      "     date_time      co    no   no2     o3   so2  pm2_5   pm10   nh3\n",
      "0   1748412000  544.18  0.30  2.58  13.39  0.58  15.16  23.88  2.05\n",
      "1   1748415600  447.68  0.08  1.90  24.56  0.50   9.67  16.88  1.96\n",
      "2   1748419200  416.52  0.05  1.69  27.14  0.48   7.28  13.79  1.96\n",
      "3   1748422800  413.70  0.04  1.64  27.42  0.48   6.25  12.42  2.03\n",
      "4   1748426400  276.08  0.02  0.88  38.98  0.29   2.58   5.45  1.19\n",
      "..         ...     ...   ...   ...    ...   ...    ...    ...   ...\n",
      "91  1748739600  524.39  0.01  4.41   9.64  0.97  21.92  33.73  7.99\n",
      "92  1748743200  532.69  0.01  4.46   9.75  0.96  21.98  31.65  8.12\n",
      "93  1748746800  535.24  0.01  4.29   9.84  0.88  21.64  29.33  7.54\n",
      "94  1748750400  519.47  0.02  3.45  10.98  0.63  20.03  26.75  4.37\n",
      "95  1748754000  514.78  0.04  3.04  12.01  0.57  19.37  27.28  3.05\n",
      "\n",
      "[96 rows x 9 columns]\n"
     ]
    }
   ],
   "source": [
    "request_url=f\"http://api.openweathermap.org/data/2.5/air_pollution/forecast?lat={lat}&lon={lon}&appid={api_key}\"\n",
    "response=requests.get(request_url)\n",
    "forecast_pollution=response.json()\n",
    "# print(forecast_pollution)\n",
    "# print(json.dumps(forecast_pollution,indent=5))\n",
    "d={'date_time':[] ,'co':[],'no':[],'no2':[],'o3':[],'so2':[],'pm2_5':[],'pm10':[],'nh3':[]}\n",
    "for i in forecast_pollution['list']:\n",
    "    d['date_time'].append(i['dt'])\n",
    "    d['co'].append(i['components']['co'])\n",
    "    d['no'].append(i['components']['no'])\n",
    "    d['no2'].append(i['components']['no2'])\n",
    "    d['o3'].append(i['components']['o3'])\n",
    "    d['so2'].append(i['components']['so2'])\n",
    "    d['pm2_5'].append(i['components']['pm2_5'])\n",
    "    d['pm10'].append(i['components']['pm10'])\n",
    "    d['nh3'].append(i['components']['nh3'])\n",
    "df=pd.DataFrame(d)\n",
    "print(df)    "
   ]
  },
  {
   "cell_type": "code",
   "execution_count": 14,
   "metadata": {},
   "outputs": [
    {
     "name": "stdout",
     "output_type": "stream",
     "text": [
      "     date_time      co    no   no2     o3   so2  pm2_5  pm10   nh3\n",
      "0   1606489200  216.96  0.01  0.24  24.68  0.14   0.55  0.86  0.55\n",
      "1   1606492800  233.65  0.00  0.76  20.74  0.22   1.17  2.18  1.36\n",
      "2   1606496400  263.69  0.00  1.44  16.27  0.32   2.41  4.61  2.38\n",
      "3   1606500000  287.06  0.00  1.89  13.95  0.41   3.60  6.67  3.07\n",
      "4   1606503600  317.10  0.00  2.44  12.34  0.56   5.33  9.44  4.62\n",
      "..         ...     ...   ...   ...    ...   ...    ...   ...   ...\n",
      "67  1606730400  287.06  0.03  0.16  21.82  0.08   1.53  2.80  0.70\n",
      "68  1606734000  283.72  0.03  0.13  23.96  0.08   1.43  2.72  0.63\n",
      "69  1606737600  283.72  0.03  0.13  25.39  0.08   1.44  2.67  0.62\n",
      "70  1606741200  300.41  0.10  0.51  25.39  0.19   2.19  4.12  1.68\n",
      "71  1606744800  330.45  0.14  1.00  29.68  0.37   3.54  6.56  3.52\n",
      "\n",
      "[72 rows x 9 columns]\n"
     ]
    }
   ],
   "source": [
    "import pandas as pd\n",
    "start=1606488670\n",
    "end=1606747870\n",
    "request_url=f\"\"\"http://api.openweathermap.org/data/2.5/air_pollution/history?lat={lat}&lon={lon}&start={start}&end={end}&appid={api_key}\"\"\"\n",
    "response=requests.get(request_url)\n",
    "forecast_pollution=response.json()\n",
    "# print(forecast_pollution)\n",
    "# print(json.dumps(forecast_pollution,indent=5))\n",
    "d={'date_time':[] ,'co':[],'no':[],'no2':[],'o3':[],'so2':[],'pm2_5':[],'pm10':[],'nh3':[]}\n",
    "for i in forecast_pollution['list']:\n",
    "    d['date_time'].append(i['dt'])\n",
    "    d['co'].append(i['components']['co'])\n",
    "    d['no'].append(i['components']['no'])\n",
    "    d['no2'].append(i['components']['no2'])\n",
    "    d['o3'].append(i['components']['o3'])\n",
    "    d['so2'].append(i['components']['so2'])\n",
    "    d['pm2_5'].append(i['components']['pm2_5'])\n",
    "    d['pm10'].append(i['components']['pm10'])\n",
    "    d['nh3'].append(i['components']['nh3'])\n",
    "df=pd.DataFrame(d)\n",
    "print(df)    "
   ]
  },
  {
   "cell_type": "code",
   "execution_count": null,
   "metadata": {},
   "outputs": [],
   "source": []
  },
  {
   "cell_type": "markdown",
   "metadata": {},
   "source": [
    "# Web Scraping using BeautifulSoup\n",
    "import requests\n",
    "from bs4 import BeautifulSoup"
   ]
  },
  {
   "cell_type": "markdown",
   "metadata": {},
   "source": [
    "# Functions are :- 1.requests.get(url).text  2.open(‘file.html’).read()  3.BeautifulSoup(source, html.parser)  4.BeautifulSoup.findAll()  5.BeautifulSoup.prettify()  6.BeautifulSoup.find('',class_='')  7.BeautifulSoup.find().get_text()  8.BeautifulSoup.find().get()"
   ]
  },
  {
   "cell_type": "code",
   "execution_count": 2,
   "metadata": {},
   "outputs": [
    {
     "data": {
      "text/plain": [
       "'Titanic (1997) - full transcript'"
      ]
     },
     "execution_count": 2,
     "metadata": {},
     "output_type": "execute_result"
    }
   ],
   "source": [
    "import requests\n",
    "from bs4 import BeautifulSoup\n",
    "website = \"https://subslikescript.com/movie/Titanic-120338\"\n",
    "result = requests.get(website).text\n",
    "soup = BeautifulSoup(result,'html.parser')\n",
    "# print(soup.prettify())\n",
    "\n",
    "box = soup.find('article',class_='main-article')\n",
    "# print(box)\n",
    "box.find('h1').get_text()\n",
    "# box.find('div',class_='full-script').get_text()"
   ]
  },
  {
   "cell_type": "code",
   "execution_count": 4,
   "metadata": {},
   "outputs": [
    {
     "name": "stdout",
     "output_type": "stream",
     "text": [
      "'NoneType' object has no attribute 'get_text'\n"
     ]
    }
   ],
   "source": [
    "website = \"https://subslikescript.com/movies\"\n",
    "result = requests.get(website).text\n",
    "soup = BeautifulSoup(result)\n",
    "# print(soup.prettify())\n",
    "box = soup.find('article',class_='main-article')\n",
    "links=[]\n",
    "for link in box.findAll('a',href=True):\n",
    "    links.append(link['href'])\n",
    "# print(links)\n",
    "root = \"https://subslikescript.com\"\n",
    "try:\n",
    "    for link in links:\n",
    "        website = f\"{root}/{link}\"\n",
    "        result = requests.get(website).text\n",
    "        soup = BeautifulSoup(result,'html.parser')\n",
    "        box = soup.find('article',{'class':'main-article'})\n",
    "        title = box.find('h1').get_text()\n",
    "        transcript = box.find('div',{'class':'full-script'}).get_text(strip=True)\n",
    "        with open(f\"{title}.txt\",'w',encoding='utf-8') as file:\n",
    "            file.write(transcript)\n",
    "except Exception as e:\n",
    "    print(e)"
   ]
  },
  {
   "cell_type": "code",
   "execution_count": null,
   "metadata": {},
   "outputs": [],
   "source": []
  }
 ],
 "metadata": {
  "kernelspec": {
   "display_name": "Python 3",
   "language": "python",
   "name": "python3"
  },
  "language_info": {
   "codemirror_mode": {
    "name": "ipython",
    "version": 3
   },
   "file_extension": ".py",
   "mimetype": "text/x-python",
   "name": "python",
   "nbconvert_exporter": "python",
   "pygments_lexer": "ipython3",
   "version": "3.8.5"
  }
 },
 "nbformat": 4,
 "nbformat_minor": 4
}
